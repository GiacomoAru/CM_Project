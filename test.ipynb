{
 "cells": [
  {
   "cell_type": "code",
   "execution_count": 1,
   "metadata": {},
   "outputs": [],
   "source": [
    "from cm_fun import *"
   ]
  },
  {
   "cell_type": "code",
   "execution_count": 2,
   "metadata": {},
   "outputs": [
    {
     "data": {
      "text/plain": [
       "array([[0.67771253, 0.87162677, 0.31288339, 0.07360056, 0.81895444],\n",
       "       [0.59322524, 0.03661815, 0.48745066, 0.64943238, 0.48323981],\n",
       "       [0.4497558 , 0.63842537, 0.58401502, 0.16242234, 0.01108902],\n",
       "       [0.78703291, 0.34106935, 0.91236761, 0.66203742, 0.88534495],\n",
       "       [0.60599513, 0.68628856, 0.95190746, 0.90166611, 0.69165128],\n",
       "       [0.11127945, 0.58177615, 0.86745881, 0.96088783, 0.07834453],\n",
       "       [0.7180819 , 0.00234348, 0.34578048, 0.79383159, 0.5439748 ],\n",
       "       [0.22636714, 0.50501685, 0.86595572, 0.37773714, 0.43020761]])"
      ]
     },
     "execution_count": 2,
     "metadata": {},
     "output_type": "execute_result"
    }
   ],
   "source": [
    "# Example usage\n",
    "A = np.random.rand(8, 5)  # Example matrix with m > n\n",
    "A"
   ]
  },
  {
   "cell_type": "code",
   "execution_count": 3,
   "metadata": {},
   "outputs": [
    {
     "data": {
      "text/plain": [
       "array([[0.58183641, 0.90781939],\n",
       "       [0.02856209, 0.35321544],\n",
       "       [0.32227026, 0.39517582],\n",
       "       [0.35120805, 0.11057241],\n",
       "       [0.80430845, 0.45832219],\n",
       "       [0.08278897, 0.54920751],\n",
       "       [0.92423952, 0.79262696],\n",
       "       [0.37149861, 0.46479284]])"
      ]
     },
     "execution_count": 3,
     "metadata": {},
     "output_type": "execute_result"
    }
   ],
   "source": [
    "U = np.random.rand(8, 2) \n",
    "U"
   ]
  },
  {
   "cell_type": "code",
   "execution_count": 4,
   "metadata": {},
   "outputs": [
    {
     "data": {
      "text/plain": [
       "array([[0.15247776, 0.01570102],\n",
       "       [0.18893613, 0.30147292],\n",
       "       [0.41268406, 0.49501846],\n",
       "       [0.60333523, 0.76516108],\n",
       "       [0.22822939, 0.34532534]])"
      ]
     },
     "execution_count": 4,
     "metadata": {},
     "output_type": "execute_result"
    }
   ],
   "source": [
    "V = np.random.rand(5, 2)\n",
    "V"
   ]
  },
  {
   "cell_type": "code",
   "execution_count": 5,
   "metadata": {},
   "outputs": [
    {
     "name": "stdout",
     "output_type": "stream",
     "text": [
      "Prima Fun: 2.7445565528331577\n"
     ]
    }
   ],
   "source": [
    "print('Prima Fun:', objective_function(A,U,V))"
   ]
  },
  {
   "cell_type": "code",
   "execution_count": 6,
   "metadata": {},
   "outputs": [],
   "source": [
    "V_r, householder_vectors = thin_qr_factorization(V)\n",
    "AQ = apply_householder_transformations(A, householder_vectors)\n",
    "U_1 = backward_substitution(AQ, np.transpose(V_r))"
   ]
  },
  {
   "cell_type": "code",
   "execution_count": 7,
   "metadata": {},
   "outputs": [
    {
     "name": "stdout",
     "output_type": "stream",
     "text": [
      "Seconda Fun: 1.919365634227163\n"
     ]
    }
   ],
   "source": [
    "print('Seconda Fun:', objective_function(A,U_1,V))"
   ]
  },
  {
   "cell_type": "code",
   "execution_count": 8,
   "metadata": {},
   "outputs": [],
   "source": [
    "U_r, householder_vectors = thin_qr_factorization(U_1)\n",
    "AQ = apply_householder_transformations(np.transpose(A), householder_vectors)\n",
    "V_1 = backward_substitution(AQ, np.transpose(U_r))"
   ]
  },
  {
   "cell_type": "code",
   "execution_count": 9,
   "metadata": {},
   "outputs": [
    {
     "data": {
      "text/plain": [
       "array([[0.22189987, 0.06204039],\n",
       "       [0.39382118, 0.64563777],\n",
       "       [0.52890632, 0.74646056],\n",
       "       [0.42212514, 0.51381023],\n",
       "       [0.28112285, 0.23925567]])"
      ]
     },
     "execution_count": 9,
     "metadata": {},
     "output_type": "execute_result"
    }
   ],
   "source": [
    "V_1"
   ]
  },
  {
   "cell_type": "code",
   "execution_count": 10,
   "metadata": {},
   "outputs": [
    {
     "name": "stdout",
     "output_type": "stream",
     "text": [
      "Terza Fun: 1.3553212464624775\n"
     ]
    }
   ],
   "source": [
    "print('Terza Fun:', objective_function(A,U_1,V_1))"
   ]
  }
 ],
 "metadata": {
  "kernelspec": {
   "display_name": ".venv",
   "language": "python",
   "name": "python3"
  },
  "language_info": {
   "codemirror_mode": {
    "name": "ipython",
    "version": 3
   },
   "file_extension": ".py",
   "mimetype": "text/x-python",
   "name": "python",
   "nbconvert_exporter": "python",
   "pygments_lexer": "ipython3",
   "version": "3.12.2"
  }
 },
 "nbformat": 4,
 "nbformat_minor": 2
}
