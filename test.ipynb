{
 "cells": [
  {
   "cell_type": "code",
   "execution_count": 1,
   "metadata": {},
   "outputs": [],
   "source": [
    "from cm_fun import *"
   ]
  },
  {
   "cell_type": "code",
   "execution_count": 2,
   "metadata": {},
   "outputs": [
    {
     "data": {
      "text/plain": [
       "array([[0.088209  , 0.98819417, 0.15654336, 0.43883233, 0.16486376],\n",
       "       [0.25486439, 0.95108355, 0.42509123, 0.30730772, 0.4083842 ],\n",
       "       [0.05270978, 0.37983852, 0.95478353, 0.55774952, 0.17051149],\n",
       "       [0.05742173, 0.81986828, 0.69581406, 0.79563512, 0.22941544],\n",
       "       [0.16469774, 0.89438052, 0.46703308, 0.63481603, 0.69447265],\n",
       "       [0.43024776, 0.35778135, 0.19211752, 0.45442294, 0.72626675],\n",
       "       [0.10442711, 0.75178417, 0.20942144, 0.86536086, 0.08143518],\n",
       "       [0.24637995, 0.65492694, 0.98865536, 0.8307066 , 0.62433527]])"
      ]
     },
     "execution_count": 2,
     "metadata": {},
     "output_type": "execute_result"
    }
   ],
   "source": [
    "# Example usage\n",
    "A = np.random.rand(8, 5)  # Example matrix with m > n\n",
    "A"
   ]
  },
  {
   "cell_type": "code",
   "execution_count": 3,
   "metadata": {},
   "outputs": [
    {
     "data": {
      "text/plain": [
       "array([[0.82194018, 0.31039035],\n",
       "       [0.84495233, 0.13362156],\n",
       "       [0.03606992, 0.12228525],\n",
       "       [0.04769946, 0.10324368],\n",
       "       [0.38100863, 0.91088082],\n",
       "       [0.46410065, 0.19806846],\n",
       "       [0.83725103, 0.90776615],\n",
       "       [0.49963863, 0.04046609]])"
      ]
     },
     "execution_count": 3,
     "metadata": {},
     "output_type": "execute_result"
    }
   ],
   "source": [
    "U = np.random.rand(8, 2) \n",
    "U"
   ]
  },
  {
   "cell_type": "code",
   "execution_count": 4,
   "metadata": {},
   "outputs": [
    {
     "data": {
      "text/plain": [
       "array([[0.28628656, 0.52809182],\n",
       "       [0.42071456, 0.82101944],\n",
       "       [0.53091812, 0.07116019],\n",
       "       [0.51185901, 0.14600502],\n",
       "       [0.21983804, 0.60876303]])"
      ]
     },
     "execution_count": 4,
     "metadata": {},
     "output_type": "execute_result"
    }
   ],
   "source": [
    "V = np.random.rand(5, 2)\n",
    "V"
   ]
  },
  {
   "cell_type": "code",
   "execution_count": 5,
   "metadata": {},
   "outputs": [
    {
     "name": "stdout",
     "output_type": "stream",
     "text": [
      "Prima Fun: 2.536912431828749\n"
     ]
    }
   ],
   "source": [
    "print('Prima Fun:', objective_function(A,U,V))"
   ]
  },
  {
   "cell_type": "code",
   "execution_count": 6,
   "metadata": {},
   "outputs": [],
   "source": [
    "V_r, householder_vectors = thin_qr_factorization(V)\n",
    "AQ = apply_householder_transformations(A, householder_vectors)\n",
    "U_t = backward_substitution(AQ, np.transpose(V_r))\n",
    "\n",
    "U_r, householder_vectors = thin_qr_factorization(U_t)\n",
    "AQ = apply_householder_transformations(np.transpose(A), householder_vectors)\n",
    "V_t = backward_substitution(AQ, np.transpose(U_r))"
   ]
  },
  {
   "cell_type": "code",
   "execution_count": 7,
   "metadata": {},
   "outputs": [
    {
     "name": "stdout",
     "output_type": "stream",
     "text": [
      "Seconda Fun: 0.9915458299250735\n"
     ]
    }
   ],
   "source": [
    "print('Seconda Fun:', objective_function(A,U_t,V_t))"
   ]
  },
  {
   "cell_type": "code",
   "execution_count": 74,
   "metadata": {},
   "outputs": [
    {
     "name": "stdout",
     "output_type": "stream",
     "text": [
      "Fun: 0.9476336414541195\n"
     ]
    }
   ],
   "source": [
    "V_r, householder_vectors = thin_qr_factorization(V_t)\n",
    "AQ = apply_householder_transformations(A, householder_vectors)\n",
    "U_t = backward_substitution(AQ, np.transpose(V_r))\n",
    "\n",
    "U_r, householder_vectors = thin_qr_factorization(U_t)\n",
    "AQ = apply_householder_transformations(np.transpose(A), householder_vectors)\n",
    "V_t = backward_substitution(AQ, np.transpose(U_r))\n",
    "\n",
    "print('Fun:', objective_function(A,U_t,V_t))"
   ]
  }
 ],
 "metadata": {
  "kernelspec": {
   "display_name": ".venv",
   "language": "python",
   "name": "python3"
  },
  "language_info": {
   "codemirror_mode": {
    "name": "ipython",
    "version": 3
   },
   "file_extension": ".py",
   "mimetype": "text/x-python",
   "name": "python",
   "nbconvert_exporter": "python",
   "pygments_lexer": "ipython3",
   "version": "3.12.2"
  }
 },
 "nbformat": 4,
 "nbformat_minor": 2
}
