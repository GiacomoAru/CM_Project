{
 "cells": [
  {
   "cell_type": "code",
   "execution_count": 1,
   "metadata": {},
   "outputs": [],
   "source": [
    "from cm_fun import *"
   ]
  },
  {
   "cell_type": "code",
   "execution_count": 5,
   "metadata": {},
   "outputs": [
    {
     "name": "stdout",
     "output_type": "stream",
     "text": [
      "Prima Fun: 2.1309329787202578\n"
     ]
    }
   ],
   "source": [
    "print('Prima Fun:', objective_function(A,U,V))"
   ]
  },
  {
   "cell_type": "code",
   "execution_count": 6,
   "metadata": {},
   "outputs": [],
   "source": [
    "V_r, householder_vectors = thin_qr_factorization(V)\n",
    "AQ = apply_householder_transformations(A, householder_vectors)\n",
    "U_t = backward_substitution(AQ, np.transpose(V_r))\n",
    "\n",
    "U_r, householder_vectors = thin_qr_factorization(U_t)\n",
    "AQ = apply_householder_transformations(np.transpose(A), householder_vectors)\n",
    "V_t = backward_substitution(AQ, np.transpose(U_r))"
   ]
  },
  {
   "cell_type": "code",
   "execution_count": 7,
   "metadata": {},
   "outputs": [
    {
     "name": "stdout",
     "output_type": "stream",
     "text": [
      "Seconda Fun: 1.4337837643048517\n"
     ]
    }
   ],
   "source": [
    "print('Seconda Fun:', objective_function(A,U_t,V_t))"
   ]
  },
  {
   "cell_type": "code",
   "execution_count": 8,
   "metadata": {},
   "outputs": [
    {
     "name": "stdout",
     "output_type": "stream",
     "text": [
      "Fun: 1.3578686836818532\n"
     ]
    }
   ],
   "source": [
    "V_r, householder_vectors = thin_qr_factorization(V_t)\n",
    "AQ = apply_householder_transformations(A, householder_vectors)\n",
    "U_t = backward_substitution(AQ, np.transpose(V_r))\n",
    "\n",
    "U_r, householder_vectors = thin_qr_factorization(U_t)\n",
    "AQ = apply_householder_transformations(np.transpose(A), householder_vectors)\n",
    "V_t = backward_substitution(AQ, np.transpose(U_r))\n",
    "\n",
    "print('Fun:', objective_function(A,U_t,V_t))"
   ]
  },
  {
   "cell_type": "code",
   "execution_count": 9,
   "metadata": {},
   "outputs": [
    {
     "data": {
      "text/plain": [
       "(8, 5)"
      ]
     },
     "execution_count": 9,
     "metadata": {},
     "output_type": "execute_result"
    }
   ],
   "source": [
    "A.shape"
   ]
  }
 ],
 "metadata": {
  "kernelspec": {
   "display_name": ".venv",
   "language": "python",
   "name": "python3"
  },
  "language_info": {
   "codemirror_mode": {
    "name": "ipython",
    "version": 3
   },
   "file_extension": ".py",
   "mimetype": "text/x-python",
   "name": "python",
   "nbconvert_exporter": "python",
   "pygments_lexer": "ipython3",
   "version": "3.12.2"
  }
 },
 "nbformat": 4,
 "nbformat_minor": 2
}
