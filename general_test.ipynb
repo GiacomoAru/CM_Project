{
 "cells": [
  {
   "cell_type": "code",
   "execution_count": 4,
   "metadata": {},
   "outputs": [],
   "source": [
    "import pandas as pd\n",
    "import numpy as np\n",
    "from plot_utils import *\n",
    "from math_utils import *"
   ]
  },
  {
   "cell_type": "code",
   "execution_count": 5,
   "metadata": {},
   "outputs": [
    {
     "name": "stdout",
     "output_type": "stream",
     "text": [
      "2_to_9_iteration_runs_t_name_m_name.html\n",
      "convergence_test_-_ots_only_m_n_k.html\n",
      "convergence_test_-_self-developed_only_m_n_error_ratio.html\n",
      "convergence_test_m_n_algorithm.html\n",
      "convergence_test_m_n_run.html\n",
      "first_test_phase_-_epsilon_dataset_epsilon.html\n",
      "first_test_phase_-_epsilon_n_iteration_obj_fun_rel.html\n",
      "first_test_phase_-_init_method_dataset_init_method.html\n",
      "identity_test_perturbation_error_ratio.html\n",
      "identity_test_perturbation_k.html\n",
      "low_rank_test_A_rank_error_ratio.html\n",
      "low_rank_test_A_rank_k.html\n",
      "norm_test_-_high_v_norm_V_norm_mul_error_ratio.html\n",
      "norm_test_-_low_v_norm_V_norm_mul_error_ratio.html\n",
      "norm_test_V_norm_mul_error_ratio.html\n",
      "one_iteration_runs_t_name_m_name.html\n",
      "performance_test_m_n_error_ratio.html\n",
      "performance_test_m_n_k.html\n",
      "performance_test_m_n_type.html\n",
      "performance_test_n_iteration_step_time.html\n",
      "structural_property_test_matrix_type_error_ratio.html\n",
      "structural_property_test_matrix_type_tot_time.html\n"
     ]
    }
   ],
   "source": [
    "from pathlib import Path\n",
    "\n",
    "# Specifica il percorso della cartella\n",
    "cartella = Path(\"./data/plots\")\n",
    "lista_f = []\n",
    "\n",
    "# Controlla se la cartella esiste\n",
    "if cartella.is_dir():\n",
    "    # Itera sui file nella cartella\n",
    "    for file in cartella.iterdir():\n",
    "        if file.is_file():  # Verifica che sia un file\n",
    "            print(file.name)\n",
    "            lista_f.append(file.name)\n",
    "else:\n",
    "    print(f\"La cartella {cartella} non esiste.\")\n"
   ]
  },
  {
   "cell_type": "code",
   "execution_count": 6,
   "metadata": {},
   "outputs": [],
   "source": [
    "def generate_html(file_list):\n",
    "    # Inizio del contenuto HTML\n",
    "    html_content = \"\"\"\n",
    "<!DOCTYPE html>\n",
    "<html lang=\"en\">\n",
    "<head>\n",
    "    <meta charset=\"UTF-8\">\n",
    "    <meta name=\"viewport\" content=\"width=device-width, initial-scale=1.0\">\n",
    "    <title>CM Project Results</title>\n",
    "</head>\n",
    "<body>\n",
    "    <h1>CM Project Results</h1>\n",
    "    <ul>\n",
    "\"\"\"\n",
    "    \n",
    "    # Aggiungi gli elementi della lista come link nel formato richiesto\n",
    "    for file_name in file_list:\n",
    "        file_link = f\"https://giacomoaru.github.io/CM_Project_Results/{file_name}\"\n",
    "        html_content += f'        <li><a href=\"{file_link}\">{file_name}</a></li>\\n'\n",
    "    \n",
    "    # Fine del contenuto HTML\n",
    "    html_content += \"\"\"\n",
    "    </ul>\n",
    "</body>\n",
    "</html>\n",
    "\"\"\"\n",
    "    \n",
    "    # Salva il contenuto in un file HTML\n",
    "    with open(\"./data/plots/index.html\", \"w\") as html_file:\n",
    "        html_file.write(html_content)\n",
    "\n",
    "generate_html(lista_f)\n"
   ]
  }
 ],
 "metadata": {
  "kernelspec": {
   "display_name": ".venv",
   "language": "python",
   "name": "python3"
  },
  "language_info": {
   "codemirror_mode": {
    "name": "ipython",
    "version": 3
   },
   "file_extension": ".py",
   "mimetype": "text/x-python",
   "name": "python",
   "nbconvert_exporter": "python",
   "pygments_lexer": "ipython3",
   "version": "3.12.2"
  }
 },
 "nbformat": 4,
 "nbformat_minor": 2
}
