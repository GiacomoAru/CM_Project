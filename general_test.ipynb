{
 "cells": [
  {
   "cell_type": "code",
   "execution_count": 1,
   "metadata": {},
   "outputs": [],
   "source": [
    "import pandas as pd\n",
    "import numpy as np\n",
    "from plot_utils import *\n",
    "from math_utils import *\n",
    "import pathlib"
   ]
  },
  {
   "cell_type": "code",
   "execution_count": 3,
   "metadata": {},
   "outputs": [
    {
     "name": "stdout",
     "output_type": "stream",
     "text": [
      "16\n",
      "16\n",
      "16\n",
      "16\n",
      "______________________-\n",
      "16\n",
      "16\n",
      "16\n",
      "16\n",
      "______________________-\n",
      "14\n",
      "14\n",
      "14\n",
      "14\n",
      "______________________-\n",
      "20\n",
      "20\n",
      "20\n",
      "20\n",
      "______________________-\n",
      "14\n",
      "14\n",
      "14\n",
      "14\n",
      "______________________-\n",
      "20\n",
      "20\n",
      "20\n",
      "20\n",
      "______________________-\n",
      "14\n",
      "14\n",
      "14\n",
      "14\n",
      "______________________-\n",
      "19\n",
      "19\n",
      "19\n",
      "19\n",
      "______________________-\n",
      "16\n",
      "16\n",
      "16\n",
      "16\n",
      "______________________-\n",
      "16\n",
      "16\n",
      "16\n",
      "16\n",
      "______________________-\n",
      "14\n",
      "14\n",
      "14\n",
      "14\n",
      "______________________-\n",
      "19\n",
      "19\n",
      "19\n",
      "19\n",
      "______________________-\n",
      "12\n",
      "12\n",
      "12\n",
      "12\n",
      "______________________-\n",
      "18\n",
      "18\n",
      "18\n",
      "18\n",
      "______________________-\n",
      "18\n",
      "18\n",
      "18\n",
      "18\n",
      "______________________-\n",
      "18\n",
      "18\n",
      "18\n",
      "18\n",
      "______________________-\n",
      "19\n",
      "19\n",
      "19\n",
      "19\n",
      "______________________-\n",
      "20\n",
      "20\n",
      "20\n",
      "20\n",
      "______________________-\n",
      "18\n",
      "18\n",
      "18\n",
      "18\n",
      "______________________-\n",
      "14\n",
      "14\n",
      "14\n",
      "14\n",
      "______________________-\n",
      "16\n",
      "16\n",
      "16\n",
      "16\n",
      "______________________-\n",
      "18\n",
      "18\n",
      "18\n",
      "18\n",
      "______________________-\n",
      "20\n",
      "20\n",
      "20\n",
      "20\n",
      "______________________-\n",
      "18\n",
      "18\n",
      "18\n",
      "18\n",
      "______________________-\n",
      "16\n",
      "16\n",
      "16\n",
      "16\n",
      "______________________-\n",
      "19\n",
      "19\n",
      "19\n",
      "19\n",
      "______________________-\n",
      "18\n",
      "18\n",
      "18\n",
      "18\n",
      "______________________-\n",
      "17\n",
      "17\n",
      "17\n",
      "17\n",
      "______________________-\n",
      "20\n",
      "20\n",
      "20\n",
      "20\n",
      "______________________-\n",
      "15\n",
      "15\n",
      "15\n",
      "15\n",
      "______________________-\n",
      "18\n",
      "18\n",
      "18\n",
      "18\n",
      "______________________-\n",
      "15\n",
      "15\n",
      "15\n",
      "15\n",
      "______________________-\n",
      "16\n",
      "16\n",
      "16\n",
      "16\n",
      "______________________-\n",
      "13\n",
      "13\n",
      "13\n",
      "13\n",
      "______________________-\n",
      "17\n",
      "17\n",
      "17\n",
      "17\n",
      "______________________-\n",
      "15\n",
      "15\n",
      "15\n",
      "15\n",
      "______________________-\n",
      "16\n",
      "16\n",
      "16\n",
      "16\n",
      "______________________-\n",
      "14\n",
      "14\n",
      "14\n",
      "14\n",
      "______________________-\n",
      "16\n",
      "16\n",
      "16\n",
      "16\n",
      "______________________-\n",
      "20\n",
      "20\n",
      "20\n",
      "20\n",
      "______________________-\n",
      "15\n",
      "15\n",
      "15\n",
      "15\n",
      "______________________-\n",
      "20\n",
      "20\n",
      "20\n",
      "20\n",
      "______________________-\n",
      "15\n",
      "15\n",
      "15\n",
      "15\n",
      "______________________-\n",
      "20\n",
      "20\n",
      "20\n",
      "20\n",
      "______________________-\n",
      "18\n",
      "18\n",
      "18\n",
      "18\n",
      "______________________-\n",
      "20\n",
      "20\n",
      "20\n",
      "20\n",
      "______________________-\n",
      "19\n",
      "19\n",
      "19\n",
      "19\n",
      "______________________-\n",
      "18\n",
      "18\n",
      "18\n",
      "18\n",
      "______________________-\n",
      "18\n"
     ]
    },
    {
     "ename": "KeyboardInterrupt",
     "evalue": "",
     "output_type": "error",
     "traceback": [
      "\u001b[1;31m---------------------------------------------------------------------------\u001b[0m",
      "\u001b[1;31mKeyboardInterrupt\u001b[0m                         Traceback (most recent call last)",
      "Cell \u001b[1;32mIn[3], line 8\u001b[0m\n\u001b[0;32m      5\u001b[0m M \u001b[38;5;241m=\u001b[39m upscale_bilinear(M, \u001b[38;5;241m100\u001b[39m, \u001b[38;5;241m100\u001b[39m)\n\u001b[0;32m      6\u001b[0m \u001b[38;5;28mprint\u001b[39m(np\u001b[38;5;241m.\u001b[39mlinalg\u001b[38;5;241m.\u001b[39mmatrix_rank(M))\n\u001b[1;32m----> 8\u001b[0m M \u001b[38;5;241m=\u001b[39m \u001b[43mupscale_bilinear\u001b[49m\u001b[43m(\u001b[49m\u001b[43mM\u001b[49m\u001b[43m,\u001b[49m\u001b[43m \u001b[49m\u001b[38;5;241;43m200\u001b[39;49m\u001b[43m,\u001b[49m\u001b[43m \u001b[49m\u001b[38;5;241;43m200\u001b[39;49m\u001b[43m)\u001b[49m\n\u001b[0;32m      9\u001b[0m \u001b[38;5;28mprint\u001b[39m(np\u001b[38;5;241m.\u001b[39mlinalg\u001b[38;5;241m.\u001b[39mmatrix_rank(M))\n\u001b[0;32m     11\u001b[0m M \u001b[38;5;241m=\u001b[39m upscale_nearest_neighbor(M, \u001b[38;5;241m100\u001b[39m, \u001b[38;5;241m100\u001b[39m)\n",
      "File \u001b[1;32mc:\\Users\\cicci\\Desktop\\uni\\CM\\CM_Project\\math_utils.py:171\u001b[0m, in \u001b[0;36mupscale_bilinear\u001b[1;34m(matrix, output_rows, output_cols)\u001b[0m\n\u001b[0;32m    168\u001b[0m y \u001b[38;5;241m=\u001b[39m j \u001b[38;5;241m/\u001b[39m scale_factor_y\n\u001b[0;32m    170\u001b[0m \u001b[38;5;66;03m# Get the integer part and the fractional part\u001b[39;00m\n\u001b[1;32m--> 171\u001b[0m x0 \u001b[38;5;241m=\u001b[39m \u001b[38;5;28;43mint\u001b[39;49m\u001b[43m(\u001b[49m\u001b[43mnp\u001b[49m\u001b[38;5;241;43m.\u001b[39;49m\u001b[43mfloor\u001b[49m\u001b[43m(\u001b[49m\u001b[43mx\u001b[49m\u001b[43m)\u001b[49m\u001b[43m)\u001b[49m\n\u001b[0;32m    172\u001b[0m y0 \u001b[38;5;241m=\u001b[39m \u001b[38;5;28mint\u001b[39m(np\u001b[38;5;241m.\u001b[39mfloor(y))\n\u001b[0;32m    173\u001b[0m x1 \u001b[38;5;241m=\u001b[39m \u001b[38;5;28mmin\u001b[39m(x0 \u001b[38;5;241m+\u001b[39m \u001b[38;5;241m1\u001b[39m, input_rows \u001b[38;5;241m-\u001b[39m \u001b[38;5;241m1\u001b[39m)\n",
      "\u001b[1;31mKeyboardInterrupt\u001b[0m: "
     ]
    }
   ],
   "source": [
    "m_dir = Path('./data/img/mnist/0')\n",
    "for mnist in m_dir.iterdir():\n",
    "    M = load_image_as_grayscale_matrix(mnist)\n",
    "    \n",
    "    M = upscale_bilinear(M, 100, 100)\n",
    "    print(np.linalg.matrix_rank(M))\n",
    "    \n",
    "    M = upscale_bilinear(M, 200, 200)\n",
    "    print(np.linalg.matrix_rank(M))\n",
    "    \n",
    "    M = upscale_nearest_neighbor(M, 100, 100)\n",
    "    print(np.linalg.matrix_rank(M))\n",
    "    \n",
    "    M = upscale_nearest_neighbor(M, 200, 200)\n",
    "    print(np.linalg.matrix_rank(M))\n",
    "    \n",
    "    print('______________________-')"
   ]
  },
  {
   "cell_type": "code",
   "execution_count": 17,
   "metadata": {},
   "outputs": [
    {
     "data": {
      "text/plain": [
       "np.float64(-50.0)"
      ]
     },
     "execution_count": 17,
     "metadata": {},
     "output_type": "execute_result"
    }
   ],
   "source": [
    "eig = np.linspace(-1.0, 1, 100)\n",
    "eig[-1] = 50.0\n",
    "eig[-1]/eig[0]"
   ]
  },
  {
   "cell_type": "code",
   "execution_count": 2,
   "metadata": {},
   "outputs": [
    {
     "data": {
      "text/plain": [
       "array([[1, 0, 0, 0],\n",
       "       [0, 2, 0, 0],\n",
       "       [0, 0, 3, 0],\n",
       "       [0, 0, 0, 4]])"
      ]
     },
     "execution_count": 2,
     "metadata": {},
     "output_type": "execute_result"
    }
   ],
   "source": [
    "create_diagonal_matrix_from_eigenvalues([1,2,3,4])"
   ]
  },
  {
   "cell_type": "code",
   "execution_count": 9,
   "metadata": {},
   "outputs": [],
   "source": [
    "def thin_qr_factorization(A, threshold=None):\n",
    "    \"\"\"\n",
    "    Perform the Thin QR factorization using Householder reflections.\n",
    "\n",
    "    Parameters:\n",
    "        A (numpy.ndarray): Input matrix of size m x n (m >= n).\n",
    "\n",
    "    Returns:\n",
    "        R (numpy.ndarray): Square upper triangular matrix of size n x n.\n",
    "        householder_vectors (list): List of n Householder vectors.\n",
    "    \"\"\"\n",
    "    m, n = A.shape\n",
    "    A = A.copy()  # To avoid modifying the original matrix\n",
    "    householder_vectors = []\n",
    "\n",
    "    if not threshold:\n",
    "        eps = np.finfo(float).eps\n",
    "        threshold = eps * np.max(np.abs(A))\n",
    "    \n",
    "    for k in range(n):\n",
    "        # Extract the column vector to be reflected\n",
    "        x = A[k:m, k]\n",
    "\n",
    "        # Compute the Householder vector vk\n",
    "        e1 = np.zeros_like(x)\n",
    "        e1[0] = np.linalg.norm(x) if x[0] >= 0 else -np.linalg.norm(x)\n",
    "        vk = x + e1\n",
    "        if np.max(np.abs(vk)) > threshold:  \n",
    "            vk /= np.linalg.norm(vk)\n",
    "        else:\n",
    "            vk = np.zeros_like(x)\n",
    "\n",
    "        # Store the Householder vector\n",
    "        householder_vectors.append(vk)\n",
    "\n",
    "        # Update the submatrix A[k:m, k:n]\n",
    "        A[k:m, k:n] -= 2 * np.outer(vk, vk @ A[k:m, k:n])\n",
    "\n",
    "    # Extract the upper triangular part as R (size n x n)\n",
    "    R = np.triu(A[:n, :n])\n",
    "    \n",
    "    return R, householder_vectors"
   ]
  },
  {
   "cell_type": "code",
   "execution_count": 8,
   "metadata": {},
   "outputs": [],
   "source": [
    "mat = load_matrices('diagonal', 'diag_identity_10x10',  f'{5}_sketching_g_{10e-16}')"
   ]
  },
  {
   "cell_type": "code",
   "execution_count": 13,
   "metadata": {},
   "outputs": [],
   "source": [
    "A = mat['A']"
   ]
  },
  {
   "cell_type": "code",
   "execution_count": 24,
   "metadata": {},
   "outputs": [
    {
     "data": {
      "text/plain": [
       "array([[-0.79518623],\n",
       "       [-0.29567543],\n",
       "       [ 1.03540423],\n",
       "       [ 0.15594223],\n",
       "       [ 0.739803  ],\n",
       "       [ 0.46395216],\n",
       "       [-0.51167344],\n",
       "       [ 0.43569269],\n",
       "       [-0.25452119],\n",
       "       [-0.2591789 ]])"
      ]
     },
     "execution_count": 24,
     "metadata": {},
     "output_type": "execute_result"
    }
   ],
   "source": [
    "mat['V_0']"
   ]
  },
  {
   "cell_type": "code",
   "execution_count": 10,
   "metadata": {},
   "outputs": [],
   "source": [
    "V_0_r, v_h = thin_qr_factorization(mat['V_0'])"
   ]
  },
  {
   "cell_type": "code",
   "execution_count": 18,
   "metadata": {},
   "outputs": [
    {
     "data": {
      "text/plain": [
       "[array([-0.85063684, -0.09773296,  0.34224393,  0.05154536,  0.24453549,\n",
       "         0.15335538, -0.16912924,  0.14401446, -0.08412978, -0.08566935])]"
      ]
     },
     "execution_count": 18,
     "metadata": {},
     "output_type": "execute_result"
    }
   ],
   "source": [
    "v_h"
   ]
  },
  {
   "cell_type": "code",
   "execution_count": 15,
   "metadata": {},
   "outputs": [
    {
     "data": {
      "text/plain": [
       "array([[-0.44716608],\n",
       "       [-0.16627051],\n",
       "       [ 0.58225059],\n",
       "       [ 0.08769276],\n",
       "       [ 0.4160218 ],\n",
       "       [ 0.26089947],\n",
       "       [-0.28773512],\n",
       "       [ 0.24500801],\n",
       "       [-0.14312778],\n",
       "       [-0.14574701]])"
      ]
     },
     "execution_count": 15,
     "metadata": {},
     "output_type": "execute_result"
    }
   ],
   "source": [
    "AQ = apply_householder_transformations(A, v_h)\n",
    "AQ"
   ]
  },
  {
   "cell_type": "code",
   "execution_count": 17,
   "metadata": {},
   "outputs": [
    {
     "data": {
      "text/plain": [
       "array([[-0.25145997],\n",
       "       [-0.09350078],\n",
       "       [ 0.32742357],\n",
       "       [ 0.04931326],\n",
       "       [ 0.23394625],\n",
       "       [ 0.14671456],\n",
       "       [-0.16180535],\n",
       "       [ 0.13777813],\n",
       "       [-0.08048667],\n",
       "       [-0.08195957]])"
      ]
     },
     "execution_count": 17,
     "metadata": {},
     "output_type": "execute_result"
    }
   ],
   "source": [
    "U_t = AQ / V_0_r\n",
    "U_t"
   ]
  },
  {
   "cell_type": "code",
   "execution_count": 19,
   "metadata": {},
   "outputs": [],
   "source": [
    "U_r, v_h = thin_qr_factorization(U_t)"
   ]
  },
  {
   "cell_type": "code",
   "execution_count": 20,
   "metadata": {},
   "outputs": [
    {
     "data": {
      "text/plain": [
       "array([[0.56234133]])"
      ]
     },
     "execution_count": 20,
     "metadata": {},
     "output_type": "execute_result"
    }
   ],
   "source": [
    "U_r"
   ]
  },
  {
   "cell_type": "code",
   "execution_count": 21,
   "metadata": {},
   "outputs": [
    {
     "data": {
      "text/plain": [
       "array([[-0.44716608],\n",
       "       [-0.16627051],\n",
       "       [ 0.58225059],\n",
       "       [ 0.08769276],\n",
       "       [ 0.4160218 ],\n",
       "       [ 0.26089947],\n",
       "       [-0.28773512],\n",
       "       [ 0.24500801],\n",
       "       [-0.14312778],\n",
       "       [-0.14574701]])"
      ]
     },
     "execution_count": 21,
     "metadata": {},
     "output_type": "execute_result"
    }
   ],
   "source": [
    "AQ = apply_householder_transformations(A, v_h)\n",
    "AQ"
   ]
  },
  {
   "cell_type": "code",
   "execution_count": 22,
   "metadata": {},
   "outputs": [
    {
     "data": {
      "text/plain": [
       "array([[-0.79518623],\n",
       "       [-0.29567543],\n",
       "       [ 1.03540423],\n",
       "       [ 0.15594223],\n",
       "       [ 0.739803  ],\n",
       "       [ 0.46395216],\n",
       "       [-0.51167344],\n",
       "       [ 0.43569269],\n",
       "       [-0.25452119],\n",
       "       [-0.2591789 ]])"
      ]
     },
     "execution_count": 22,
     "metadata": {},
     "output_type": "execute_result"
    }
   ],
   "source": [
    "V_t = AQ / U_r\n",
    "V_t"
   ]
  }
 ],
 "metadata": {
  "kernelspec": {
   "display_name": ".venv",
   "language": "python",
   "name": "python3"
  },
  "language_info": {
   "codemirror_mode": {
    "name": "ipython",
    "version": 3
   },
   "file_extension": ".py",
   "mimetype": "text/x-python",
   "name": "python",
   "nbconvert_exporter": "python",
   "pygments_lexer": "ipython3",
   "version": "3.12.2"
  }
 },
 "nbformat": 4,
 "nbformat_minor": 2
}
