{
 "cells": [
  {
   "cell_type": "code",
   "execution_count": 9,
   "metadata": {},
   "outputs": [],
   "source": [
    "import pandas as pd\n",
    "import numpy as np\n",
    "from plot_utils import *\n",
    "from math_utils import *\n",
    "from pathlib import Path\n",
    "\n",
    "# Specifica la cartella\n",
    "horse_path = Path('./data/img/horse')\n"
   ]
  },
  {
   "cell_type": "code",
   "execution_count": null,
   "metadata": {},
   "outputs": [],
   "source": [
    "k = 1\n",
    "method = 'snormal'\n",
    "epsilon = 1e-08\n",
    "for file in horse_path.iterdir():\n",
    "    if file.is_file():\n",
    "        A = load_image_as_grayscale_matrix(file)\n",
    "        start(A, k, 'horses', file.name,  f'{k}_{method}_{epsilon}', method, epsilon=epsilon)  "
   ]
  },
  {
   "cell_type": "code",
   "execution_count": null,
   "metadata": {},
   "outputs": [],
   "source": [
    "k = 1\n",
    "method = 'normal'\n",
    "epsilon = 1e-08\n",
    "for file in horse_path.iterdir():\n",
    "    if file.is_file():\n",
    "        A = load_image_as_grayscale_matrix(file)\n",
    "        start(A, k, 'horses', file.name,  f'{k}_{method}_{epsilon}', method, epsilon=epsilon)  "
   ]
  },
  {
   "cell_type": "code",
   "execution_count": null,
   "metadata": {},
   "outputs": [],
   "source": [
    "k = 2\n",
    "method = 'snormal'\n",
    "epsilon = 1e-08\n",
    "for file in horse_path.iterdir():\n",
    "    if file.is_file():\n",
    "        A = load_image_as_grayscale_matrix(file)\n",
    "        start(A, k, 'horses', file.name,  f'{k}_{method}_{epsilon}', method, epsilon=epsilon)  "
   ]
  },
  {
   "cell_type": "code",
   "execution_count": null,
   "metadata": {},
   "outputs": [],
   "source": [
    "k = 2\n",
    "method = 'normal'\n",
    "epsilon = 1e-08\n",
    "for file in horse_path.iterdir():\n",
    "    if file.is_file():\n",
    "        A = load_image_as_grayscale_matrix(file)\n",
    "        start(A, k, 'horses', file.name,  f'{k}_{method}_{epsilon}', method, epsilon=epsilon)  "
   ]
  },
  {
   "cell_type": "code",
   "execution_count": null,
   "metadata": {},
   "outputs": [],
   "source": [
    "k = 5\n",
    "method = 'snormal'\n",
    "epsilon = 1e-08\n",
    "for file in horse_path.iterdir():\n",
    "    if file.is_file():\n",
    "        A = load_image_as_grayscale_matrix(file)\n",
    "        start(A, k, 'horses', file.name,  f'{k}_{method}_{epsilon}', method, epsilon=epsilon)  "
   ]
  },
  {
   "cell_type": "code",
   "execution_count": null,
   "metadata": {},
   "outputs": [],
   "source": [
    "k = 5\n",
    "method = 'normal'\n",
    "epsilon = 1e-08\n",
    "for file in horse_path.iterdir():\n",
    "    if file.is_file():\n",
    "        A = load_image_as_grayscale_matrix(file)\n",
    "        start(A, k, 'horses', file.name,  f'{k}_{method}_{epsilon}', method, epsilon=epsilon)  "
   ]
  },
  {
   "cell_type": "code",
   "execution_count": null,
   "metadata": {},
   "outputs": [],
   "source": [
    "k = 10\n",
    "method = 'snormal'\n",
    "epsilon = 1e-08\n",
    "for file in horse_path.iterdir():\n",
    "    if file.is_file():\n",
    "        A = load_image_as_grayscale_matrix(file)\n",
    "        start(A, k, 'horses', file.name,  f'{k}_{method}_{epsilon}', method, epsilon=epsilon)  "
   ]
  },
  {
   "cell_type": "code",
   "execution_count": null,
   "metadata": {},
   "outputs": [],
   "source": [
    "k = 10\n",
    "method = 'normal'\n",
    "epsilon = 1e-08\n",
    "for file in horse_path.iterdir():\n",
    "    if file.is_file():\n",
    "        A = load_image_as_grayscale_matrix(file)\n",
    "        start(A, k, 'horses', file.name,  f'{k}_{method}_{epsilon}', method, epsilon=epsilon)  "
   ]
  },
  {
   "cell_type": "code",
   "execution_count": null,
   "metadata": {},
   "outputs": [],
   "source": [
    "k = 20\n",
    "method = 'snormal'\n",
    "epsilon = 1e-08\n",
    "for file in horse_path.iterdir():\n",
    "    if file.is_file():\n",
    "        A = load_image_as_grayscale_matrix(file)\n",
    "        start(A, k, 'horses', file.name,  f'{k}_{method}_{epsilon}', method, epsilon=epsilon)  "
   ]
  },
  {
   "cell_type": "code",
   "execution_count": null,
   "metadata": {},
   "outputs": [],
   "source": [
    "k = 20\n",
    "method = 'normal'\n",
    "epsilon = 1e-08\n",
    "for file in horse_path.iterdir():\n",
    "    if file.is_file():\n",
    "        A = load_image_as_grayscale_matrix(file)\n",
    "        start(A, k, 'horses', file.name,  f'{k}_{method}_{epsilon}', method, epsilon=epsilon)  "
   ]
  },
  {
   "cell_type": "code",
   "execution_count": null,
   "metadata": {},
   "outputs": [],
   "source": [
    "k = 50\n",
    "method = 'snormal'\n",
    "epsilon = 1e-08\n",
    "for file in horse_path.iterdir():\n",
    "    if file.is_file():\n",
    "        A = load_image_as_grayscale_matrix(file)\n",
    "        start(A, k, 'horses', file.name,  f'{k}_{method}_{epsilon}', method, epsilon=epsilon)  "
   ]
  },
  {
   "cell_type": "code",
   "execution_count": null,
   "metadata": {},
   "outputs": [],
   "source": [
    "k = 50\n",
    "method = 'normal'\n",
    "epsilon = 1e-08\n",
    "for file in horse_path.iterdir():\n",
    "    if file.is_file():\n",
    "        A = load_image_as_grayscale_matrix(file)\n",
    "        start(A, k, 'horses', file.name,  f'{k}_{method}_{epsilon}', method, epsilon=epsilon)  "
   ]
  }
 ],
 "metadata": {
  "kernelspec": {
   "display_name": ".venv",
   "language": "python",
   "name": "python3"
  },
  "language_info": {
   "codemirror_mode": {
    "name": "ipython",
    "version": 3
   },
   "file_extension": ".py",
   "mimetype": "text/x-python",
   "name": "python",
   "nbconvert_exporter": "python",
   "pygments_lexer": "ipython3",
   "version": "3.12.2"
  }
 },
 "nbformat": 4,
 "nbformat_minor": 2
}
