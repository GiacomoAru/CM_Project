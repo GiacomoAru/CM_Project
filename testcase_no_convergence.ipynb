{
 "cells": [
  {
   "cell_type": "code",
   "execution_count": 1,
   "metadata": {},
   "outputs": [],
   "source": [
    "import pandas as pd\n",
    "import numpy as np\n",
    "from plot_utils import *\n",
    "from math_utils import *\n",
    "from off_the_shelf_utils import *\n",
    "from pathlib import Path\n",
    "\n",
    "# Specifica la cartella\n",
    "horse_path = Path('./data/img/horse')\n"
   ]
  },
  {
   "cell_type": "code",
   "execution_count": 2,
   "metadata": {},
   "outputs": [
    {
     "data": {
      "text/plain": [
       "(100, 100)"
      ]
     },
     "execution_count": 2,
     "metadata": {},
     "output_type": "execute_result"
    }
   ],
   "source": [
    "img_A = load_image_as_grayscale_matrix('./data/img/mnist/0/101.png')\n",
    "img_A = resize_image(img_A, 100, 100)\n",
    "img_A.shape"
   ]
  },
  {
   "cell_type": "code",
   "execution_count": 3,
   "metadata": {},
   "outputs": [],
   "source": [
    "methods = [\n",
    "    'rand_u',           # Uniform Distribution\n",
    "    'rand_n',           # Normal Distribution\n",
    "    'scaled_u',         # Scaled Uniform Distribution\n",
    "    'scaled_n',         # Scaled Normal Distribution\n",
    "    'sketching_g',      # Sketching with Gaussian Distribution\n",
    "    'sketching_b',      # Sketching with Bernoulli Distribution\n",
    "    'semi-orthogonal'   # Semi-Orthogonal via Householder\n",
    "]\n",
    "epsilon = [\n",
    "    1e-08,\n",
    "    np.finfo(np.float64).eps\n",
    "]\n",
    "ks = [\n",
    "    1,\n",
    "    2,\n",
    "    5,\n",
    "    10,\n",
    "    20,\n",
    "    50,\n",
    "    100,\n",
    "    200\n",
    "]"
   ]
  },
  {
   "cell_type": "code",
   "execution_count": 4,
   "metadata": {},
   "outputs": [
    {
     "ename": "ValueError",
     "evalue": "shapes (100,99) and (100,) not aligned: 99 (dim 1) != 100 (dim 0)",
     "output_type": "error",
     "traceback": [
      "\u001b[0;31m---------------------------------------------------------------------------\u001b[0m",
      "\u001b[0;31mValueError\u001b[0m                                Traceback (most recent call last)",
      "Cell \u001b[0;32mIn[4], line 1\u001b[0m\n\u001b[0;32m----> 1\u001b[0m \u001b[43mtest_start\u001b[49m\u001b[43m(\u001b[49m\u001b[43mimg_A\u001b[49m\u001b[38;5;241;43m/\u001b[39;49m\u001b[43mnp\u001b[49m\u001b[38;5;241;43m.\u001b[39;49m\u001b[43mmax\u001b[49m\u001b[43m(\u001b[49m\u001b[43mimg_A\u001b[49m\u001b[43m)\u001b[49m\u001b[43m,\u001b[49m\u001b[43m \u001b[49m\u001b[38;5;241;43m20\u001b[39;49m\u001b[43m,\u001b[49m\u001b[43m \u001b[49m\u001b[38;5;124;43m'\u001b[39;49m\u001b[38;5;124;43mmnist\u001b[39;49m\u001b[38;5;124;43m'\u001b[39;49m\u001b[43m,\u001b[49m\u001b[43m \u001b[49m\u001b[38;5;124;43m'\u001b[39;49m\u001b[38;5;124;43m0_212\u001b[39;49m\u001b[38;5;124;43m'\u001b[39;49m\u001b[43m,\u001b[49m\u001b[43m  \u001b[49m\u001b[38;5;124;43mf\u001b[39;49m\u001b[38;5;124;43m'\u001b[39;49m\u001b[38;5;124;43mtest_non_convergenza\u001b[39;49m\u001b[38;5;124;43m'\u001b[39;49m\u001b[43m,\u001b[49m\u001b[43m \u001b[49m\u001b[38;5;124;43m'\u001b[39;49m\u001b[38;5;124;43msketching_g\u001b[39;49m\u001b[38;5;124;43m'\u001b[39;49m\u001b[43m,\u001b[49m\u001b[43m \u001b[49m\u001b[43mepsilon\u001b[49m\u001b[38;5;241;43m=\u001b[39;49m\u001b[43mepsilon\u001b[49m\u001b[43m[\u001b[49m\u001b[38;5;241;43m0\u001b[39;49m\u001b[43m]\u001b[49m\u001b[43m)\u001b[49m\n",
      "File \u001b[0;32m~/CM_Project/math_utils.py:427\u001b[0m, in \u001b[0;36mtest_start\u001b[0;34m(A, k, c_name, m_name, t_name, init_method, data_folder, max_iter, liv_len, epsilon, seed)\u001b[0m\n\u001b[1;32m    425\u001b[0m qr_time \u001b[38;5;241m=\u001b[39m time\u001b[38;5;241m.\u001b[39mtime() \u001b[38;5;241m-\u001b[39m start_time\n\u001b[1;32m    426\u001b[0m start_time \u001b[38;5;241m=\u001b[39m time\u001b[38;5;241m.\u001b[39mtime()\n\u001b[0;32m--> 427\u001b[0m AQ \u001b[38;5;241m=\u001b[39m \u001b[43mapply_householder_transformations\u001b[49m\u001b[43m(\u001b[49m\u001b[43mA\u001b[49m\u001b[43m,\u001b[49m\u001b[43m \u001b[49m\u001b[43mhouseholder_vectors\u001b[49m\u001b[43m)\u001b[49m\n\u001b[1;32m    428\u001b[0m manip_time \u001b[38;5;241m=\u001b[39m time\u001b[38;5;241m.\u001b[39mtime() \u001b[38;5;241m-\u001b[39m start_time\n\u001b[1;32m    429\u001b[0m start_time \u001b[38;5;241m=\u001b[39m time\u001b[38;5;241m.\u001b[39mtime()\n",
      "File \u001b[0;32m~/CM_Project/math_utils.py:93\u001b[0m, in \u001b[0;36mapply_householder_transformations\u001b[0;34m(A, householder_vectors)\u001b[0m\n\u001b[1;32m     90\u001b[0m     submatrix \u001b[38;5;241m=\u001b[39m A[:, i:]\n\u001b[1;32m     92\u001b[0m     \u001b[38;5;66;03m# Update the submatrix using the Householder transformation formula\u001b[39;00m\n\u001b[0;32m---> 93\u001b[0m     submatrix \u001b[38;5;241m-\u001b[39m\u001b[38;5;241m=\u001b[39m \u001b[38;5;241m2.0\u001b[39m \u001b[38;5;241m*\u001b[39m np\u001b[38;5;241m.\u001b[39mouter(\u001b[43mnp\u001b[49m\u001b[38;5;241;43m.\u001b[39;49m\u001b[43mdot\u001b[49m\u001b[43m(\u001b[49m\u001b[43msubmatrix\u001b[49m\u001b[43m,\u001b[49m\u001b[43m \u001b[49m\u001b[43mu\u001b[49m\u001b[43m)\u001b[49m, u)\n\u001b[1;32m     95\u001b[0m \u001b[38;5;28;01mreturn\u001b[39;00m A[:,:\u001b[38;5;28mlen\u001b[39m(householder_vectors)]\n",
      "\u001b[0;31mValueError\u001b[0m: shapes (100,99) and (100,) not aligned: 99 (dim 1) != 100 (dim 0)"
     ]
    }
   ],
   "source": [
    "test_start(img_A/np.max(img_A), 20, 'mnist', '0_212',  f'test_non_convergenza', 'sketching_g', epsilon=epsilon[0])"
   ]
  },
  {
   "cell_type": "code",
   "execution_count": 19,
   "metadata": {},
   "outputs": [],
   "source": [
    "for meth in methods[5:]:\n",
    "    for k in ks:\n",
    "        #start(img_A, k, 'mnist_500', '0_212',  f'{k}_{meth}_{epsilon[0]}', meth, epsilon=epsilon[0])\n",
    "        continue"
   ]
  }
 ],
 "metadata": {
  "kernelspec": {
   "display_name": "cm",
   "language": "python",
   "name": "python3"
  },
  "language_info": {
   "codemirror_mode": {
    "name": "ipython",
    "version": 3
   },
   "file_extension": ".py",
   "mimetype": "text/x-python",
   "name": "python",
   "nbconvert_exporter": "python",
   "pygments_lexer": "ipython3",
   "version": "3.12.8"
  }
 },
 "nbformat": 4,
 "nbformat_minor": 2
}
