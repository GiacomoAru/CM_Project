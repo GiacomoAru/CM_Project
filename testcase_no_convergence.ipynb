{
 "cells": [
  {
   "cell_type": "code",
   "execution_count": 1,
   "metadata": {},
   "outputs": [],
   "source": [
    "import pandas as pd\n",
    "import numpy as np\n",
    "from plot_utils import *\n",
    "from math_utils import *\n",
    "from off_the_shelf_utils import *\n",
    "from pathlib import Path\n",
    "\n",
    "# Specifica la cartella\n",
    "horse_path = Path('./data/img/horse')\n"
   ]
  },
  {
   "cell_type": "code",
   "execution_count": 2,
   "metadata": {},
   "outputs": [
    {
     "data": {
      "text/plain": [
       "array([[1.3295288 , 0.78602133, 1.31873487, 0.85158193, 1.07081619],\n",
       "       [0.81651398, 0.44668013, 0.82737074, 0.50527422, 0.79337161],\n",
       "       [0.80789801, 0.44948445, 0.81499333, 0.5036371 , 0.75668882],\n",
       "       [0.63497438, 0.36217622, 0.63623355, 0.40021184, 0.56120943],\n",
       "       [0.87097062, 0.55933444, 0.84235413, 0.57969626, 0.5342302 ],\n",
       "       [0.63282972, 0.29765549, 0.66479046, 0.36775254, 0.79768529]])"
      ]
     },
     "execution_count": 2,
     "metadata": {},
     "output_type": "execute_result"
    }
   ],
   "source": [
    "#img_A = load_image_as_grayscale_matrix('./data/img/mnist/0/101.png')\n",
    "#img_A = resize_image(img_A, 100, 100)\n",
    "\n",
    "img_A = np.dot(np.random.rand(6, 2), np.random.rand(5,2).transpose())\n",
    "img_A"
   ]
  },
  {
   "cell_type": "code",
   "execution_count": 3,
   "metadata": {},
   "outputs": [],
   "source": [
    "methods = [\n",
    "    'rand_u',           # Uniform Distribution\n",
    "    'rand_n',           # Normal Distribution\n",
    "    'scaled_u',         # Scaled Uniform Distribution\n",
    "    'scaled_n',         # Scaled Normal Distribution\n",
    "    'sketching_g',      # Sketching with Gaussian Distribution\n",
    "    'sketching_b',      # Sketching with Bernoulli Distribution\n",
    "    'semi-orthogonal'   # Semi-Orthogonal via Householder\n",
    "]\n",
    "epsilon = [\n",
    "    1e-08,\n",
    "    np.finfo(np.float64).eps\n",
    "]\n",
    "ks = [\n",
    "    1,\n",
    "    2,\n",
    "    5,\n",
    "    10,\n",
    "    20,\n",
    "    50,\n",
    "    100,\n",
    "    200\n",
    "]"
   ]
  },
  {
   "cell_type": "code",
   "execution_count": 4,
   "metadata": {},
   "outputs": [
    {
     "name": "stdout",
     "output_type": "stream",
     "text": [
      "V_r [[ 7.07351588e-01  2.01997311e+00  1.33704213e+00]\n",
      " [ 0.00000000e+00 -7.27632747e-01 -3.07088116e-01]\n",
      " [ 0.00000000e+00  0.00000000e+00  1.30369980e-16]]\n",
      "AQ [[-2.39858022e+00  4.93143020e-01 -1.49205303e-16]\n",
      " [-1.49623596e+00  4.43597864e-01  8.45742932e-17]\n",
      " [-1.47561359e+00  4.09563689e-01 -5.04121878e-17]\n",
      " [-1.15404847e+00  2.87149577e-01 -7.51566317e-17]\n",
      " [-1.54274516e+00  1.49640682e-01 -9.50075848e-17]\n",
      " [-1.19085064e+00  5.33326461e-01  7.38640115e-17]]\n",
      "U_t [[-3.39093071  0.          0.        ]\n",
      " [-2.11526486  0.          0.        ]\n",
      " [-2.08611052  0.          0.        ]\n",
      " [-1.63150615  0.          0.        ]\n",
      " [-2.18101604  0.          0.        ]\n",
      " [-1.68353427  0.          0.        ]]\n",
      "low_rank_6x5 | test_non_convergenza | 0 | 0.002s | obj=0.99849679359020360 | U=5.52969660420720377 | V=2.64425260461330192 |\n"
     ]
    },
    {
     "name": "stderr",
     "output_type": "stream",
     "text": [
      "c:\\Users\\cicci\\Desktop\\uni\\CM\\CM_Project\\math_utils.py:38: RuntimeWarning: invalid value encountered in divide\n",
      "  vk /= np.linalg.norm(vk)\n"
     ]
    },
    {
     "name": "stdout",
     "output_type": "stream",
     "text": [
      "U_r [[5.5296966 0.        0.       ]\n",
      " [0.              nan       nan]\n",
      " [0.        0.              nan]]\n",
      "AQ [[-2.15595986         nan         nan]\n",
      " [-1.24053609         nan         nan]\n",
      " [-2.15498574         nan         nan]\n",
      " [-1.36417714         nan         nan]\n",
      " [-1.86475021         nan         nan]]\n",
      "V_t [[nan nan nan]\n",
      " [nan nan nan]\n",
      " [nan nan nan]\n",
      " [nan nan nan]\n",
      " [nan nan nan]]\n",
      "low_rank_6x5 | test_non_convergenza | 0 | 0.003s | obj=nan | U=5.52969660420720377 | V=nan |\n"
     ]
    },
    {
     "ename": "KeyboardInterrupt",
     "evalue": "Interrupted by user",
     "output_type": "error",
     "traceback": [
      "\u001b[1;31m---------------------------------------------------------------------------\u001b[0m",
      "\u001b[1;31mKeyboardInterrupt\u001b[0m                         Traceback (most recent call last)",
      "Cell \u001b[1;32mIn[4], line 1\u001b[0m\n\u001b[1;32m----> 1\u001b[0m \u001b[43mstart\u001b[49m\u001b[43m(\u001b[49m\u001b[43mimg_A\u001b[49m\u001b[43m,\u001b[49m\u001b[43m \u001b[49m\u001b[38;5;241;43m3\u001b[39;49m\u001b[43m,\u001b[49m\u001b[43m \u001b[49m\u001b[38;5;124;43m'\u001b[39;49m\u001b[38;5;124;43mpretest\u001b[39;49m\u001b[38;5;124;43m'\u001b[39;49m\u001b[43m,\u001b[49m\u001b[43m \u001b[49m\u001b[38;5;124;43m'\u001b[39;49m\u001b[38;5;124;43mlow_rank_6x5\u001b[39;49m\u001b[38;5;124;43m'\u001b[39;49m\u001b[43m,\u001b[49m\u001b[43m  \u001b[49m\u001b[38;5;124;43mf\u001b[39;49m\u001b[38;5;124;43m'\u001b[39;49m\u001b[38;5;124;43mtest_non_convergenza\u001b[39;49m\u001b[38;5;124;43m'\u001b[39;49m\u001b[43m,\u001b[49m\u001b[43m \u001b[49m\u001b[38;5;124;43m'\u001b[39;49m\u001b[38;5;124;43msketching_g\u001b[39;49m\u001b[38;5;124;43m'\u001b[39;49m\u001b[43m,\u001b[49m\u001b[43m \u001b[49m\u001b[43mepsilon\u001b[49m\u001b[38;5;241;43m=\u001b[39;49m\u001b[43mepsilon\u001b[49m\u001b[43m[\u001b[49m\u001b[38;5;241;43m0\u001b[39;49m\u001b[43m]\u001b[49m\u001b[43m)\u001b[49m\n",
      "File \u001b[1;32mc:\\Users\\cicci\\Desktop\\uni\\CM\\CM_Project\\math_utils.py:309\u001b[0m, in \u001b[0;36mstart\u001b[1;34m(A, k, c_name, m_name, t_name, init_method, data_folder, max_iter, liv_len, epsilon, seed)\u001b[0m\n\u001b[0;32m    306\u001b[0m _fancy_print(m_name, t_name, iteration_num, obj_fun, norm_U_t, norm_V_t, qr_time\u001b[38;5;241m+\u001b[39mmanip_time\u001b[38;5;241m+\u001b[39mbw_time)\n\u001b[0;32m    308\u001b[0m \u001b[38;5;66;03m#print(np.max(A - UV))\u001b[39;00m\n\u001b[1;32m--> 309\u001b[0m \u001b[38;5;28;43minput\u001b[39;49m\u001b[43m(\u001b[49m\u001b[43m)\u001b[49m\n\u001b[0;32m    311\u001b[0m last_iteration_values\u001b[38;5;241m.\u001b[39mpop(\u001b[38;5;241m0\u001b[39m)\n\u001b[0;32m    312\u001b[0m last_iteration_values\u001b[38;5;241m.\u001b[39mappend(obj_fun)\n",
      "File \u001b[1;32mc:\\Users\\cicci\\Desktop\\uni\\CM\\CM_Project\\.venv\\Lib\\site-packages\\ipykernel\\kernelbase.py:1282\u001b[0m, in \u001b[0;36mKernel.raw_input\u001b[1;34m(self, prompt)\u001b[0m\n\u001b[0;32m   1280\u001b[0m     msg \u001b[38;5;241m=\u001b[39m \u001b[38;5;124m\"\u001b[39m\u001b[38;5;124mraw_input was called, but this frontend does not support input requests.\u001b[39m\u001b[38;5;124m\"\u001b[39m\n\u001b[0;32m   1281\u001b[0m     \u001b[38;5;28;01mraise\u001b[39;00m StdinNotImplementedError(msg)\n\u001b[1;32m-> 1282\u001b[0m \u001b[38;5;28;01mreturn\u001b[39;00m \u001b[38;5;28;43mself\u001b[39;49m\u001b[38;5;241;43m.\u001b[39;49m\u001b[43m_input_request\u001b[49m\u001b[43m(\u001b[49m\n\u001b[0;32m   1283\u001b[0m \u001b[43m    \u001b[49m\u001b[38;5;28;43mstr\u001b[39;49m\u001b[43m(\u001b[49m\u001b[43mprompt\u001b[49m\u001b[43m)\u001b[49m\u001b[43m,\u001b[49m\n\u001b[0;32m   1284\u001b[0m \u001b[43m    \u001b[49m\u001b[38;5;28;43mself\u001b[39;49m\u001b[38;5;241;43m.\u001b[39;49m\u001b[43m_parent_ident\u001b[49m\u001b[43m[\u001b[49m\u001b[38;5;124;43m\"\u001b[39;49m\u001b[38;5;124;43mshell\u001b[39;49m\u001b[38;5;124;43m\"\u001b[39;49m\u001b[43m]\u001b[49m\u001b[43m,\u001b[49m\n\u001b[0;32m   1285\u001b[0m \u001b[43m    \u001b[49m\u001b[38;5;28;43mself\u001b[39;49m\u001b[38;5;241;43m.\u001b[39;49m\u001b[43mget_parent\u001b[49m\u001b[43m(\u001b[49m\u001b[38;5;124;43m\"\u001b[39;49m\u001b[38;5;124;43mshell\u001b[39;49m\u001b[38;5;124;43m\"\u001b[39;49m\u001b[43m)\u001b[49m\u001b[43m,\u001b[49m\n\u001b[0;32m   1286\u001b[0m \u001b[43m    \u001b[49m\u001b[43mpassword\u001b[49m\u001b[38;5;241;43m=\u001b[39;49m\u001b[38;5;28;43;01mFalse\u001b[39;49;00m\u001b[43m,\u001b[49m\n\u001b[0;32m   1287\u001b[0m \u001b[43m\u001b[49m\u001b[43m)\u001b[49m\n",
      "File \u001b[1;32mc:\\Users\\cicci\\Desktop\\uni\\CM\\CM_Project\\.venv\\Lib\\site-packages\\ipykernel\\kernelbase.py:1325\u001b[0m, in \u001b[0;36mKernel._input_request\u001b[1;34m(self, prompt, ident, parent, password)\u001b[0m\n\u001b[0;32m   1322\u001b[0m \u001b[38;5;28;01mexcept\u001b[39;00m \u001b[38;5;167;01mKeyboardInterrupt\u001b[39;00m:\n\u001b[0;32m   1323\u001b[0m     \u001b[38;5;66;03m# re-raise KeyboardInterrupt, to truncate traceback\u001b[39;00m\n\u001b[0;32m   1324\u001b[0m     msg \u001b[38;5;241m=\u001b[39m \u001b[38;5;124m\"\u001b[39m\u001b[38;5;124mInterrupted by user\u001b[39m\u001b[38;5;124m\"\u001b[39m\n\u001b[1;32m-> 1325\u001b[0m     \u001b[38;5;28;01mraise\u001b[39;00m \u001b[38;5;167;01mKeyboardInterrupt\u001b[39;00m(msg) \u001b[38;5;28;01mfrom\u001b[39;00m \u001b[38;5;28;01mNone\u001b[39;00m\n\u001b[0;32m   1326\u001b[0m \u001b[38;5;28;01mexcept\u001b[39;00m \u001b[38;5;167;01mException\u001b[39;00m:\n\u001b[0;32m   1327\u001b[0m     \u001b[38;5;28mself\u001b[39m\u001b[38;5;241m.\u001b[39mlog\u001b[38;5;241m.\u001b[39mwarning(\u001b[38;5;124m\"\u001b[39m\u001b[38;5;124mInvalid Message:\u001b[39m\u001b[38;5;124m\"\u001b[39m, exc_info\u001b[38;5;241m=\u001b[39m\u001b[38;5;28;01mTrue\u001b[39;00m)\n",
      "\u001b[1;31mKeyboardInterrupt\u001b[0m: Interrupted by user"
     ]
    }
   ],
   "source": [
    "start(img_A, 3, 'pretest', 'low_rank_6x5',  f'test_non_convergenza', 'sketching_g', epsilon=epsilon[0])"
   ]
  },
  {
   "cell_type": "code",
   "execution_count": 5,
   "metadata": {},
   "outputs": [],
   "source": [
    "for meth in methods[5:]:\n",
    "    for k in ks:\n",
    "        #start(img_A, k, 'mnist_500', '0_212',  f'{k}_{meth}_{epsilon[0]}', meth, epsilon=epsilon[0])\n",
    "        continue"
   ]
  },
  {
   "cell_type": "code",
   "execution_count": null,
   "metadata": {},
   "outputs": [],
   "source": [
    "thin_qr_factorization(np.array([[]]))"
   ]
  }
 ],
 "metadata": {
  "kernelspec": {
   "display_name": ".venv",
   "language": "python",
   "name": "python3"
  },
  "language_info": {
   "codemirror_mode": {
    "name": "ipython",
    "version": 3
   },
   "file_extension": ".py",
   "mimetype": "text/x-python",
   "name": "python",
   "nbconvert_exporter": "python",
   "pygments_lexer": "ipython3",
   "version": "3.12.2"
  }
 },
 "nbformat": 4,
 "nbformat_minor": 2
}
