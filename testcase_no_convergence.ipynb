{
 "cells": [
  {
   "cell_type": "code",
   "execution_count": 49,
   "metadata": {},
   "outputs": [],
   "source": [
    "import pandas as pd\n",
    "import numpy as np\n",
    "from plot_utils import *\n",
    "from math_utils import *\n",
    "from off_the_shelf_utils import *\n",
    "from pathlib import Path\n",
    "\n",
    "# Specifica la cartella\n",
    "horse_path = Path('./data/img/horse')\n"
   ]
  },
  {
   "cell_type": "code",
   "execution_count": 50,
   "metadata": {},
   "outputs": [
    {
     "data": {
      "text/plain": [
       "array([[0., 0., 0., ..., 0., 0., 0.],\n",
       "       [0., 0., 0., ..., 0., 0., 0.],\n",
       "       [0., 0., 0., ..., 0., 0., 0.],\n",
       "       ...,\n",
       "       [0., 0., 0., ..., 0., 0., 0.],\n",
       "       [0., 0., 0., ..., 0., 0., 0.],\n",
       "       [0., 0., 0., ..., 0., 0., 0.]], shape=(100, 100))"
      ]
     },
     "execution_count": 50,
     "metadata": {},
     "output_type": "execute_result"
    }
   ],
   "source": [
    "img_A = load_image_as_grayscale_matrix('./data/img/mnist/2/35.png')\n",
    "img_A = resize_image(img_A, 100, 100)\n",
    "\n",
    "#img_A = np.dot(np.random.rand(6, 2), np.random.rand(5,2).transpose())\n",
    "img_A"
   ]
  },
  {
   "cell_type": "code",
   "execution_count": 51,
   "metadata": {},
   "outputs": [],
   "source": [
    "methods = [\n",
    "    'rand_u',           # Uniform Distribution\n",
    "    'rand_n',           # Normal Distribution\n",
    "    'scaled_u',         # Scaled Uniform Distribution\n",
    "    'scaled_n',         # Scaled Normal Distribution\n",
    "    'sketching_g',      # Sketching with Gaussian Distribution\n",
    "    'sketching_b',      # Sketching with Bernoulli Distribution\n",
    "    'semi-orthogonal'   # Semi-Orthogonal via Householder\n",
    "]\n",
    "epsilon = [\n",
    "    1e-08,\n",
    "    np.finfo(np.float64).eps\n",
    "]\n",
    "ks = [\n",
    "    1,\n",
    "    2,\n",
    "    5,\n",
    "    10,\n",
    "    20,\n",
    "    50,\n",
    "    100,\n",
    "    200\n",
    "]"
   ]
  },
  {
   "cell_type": "code",
   "execution_count": 52,
   "metadata": {},
   "outputs": [
    {
     "name": "stdout",
     "output_type": "stream",
     "text": [
      "2 | 100x100 | 0 | 0.009s | obj=0.00000000002947210 | U=4059.79068037892920984 | V=289.59829747540396738 |\n",
      "2 | 100x100 | 0 | 0.008s | obj=0.00000000001748769 | U=4059.79068037892920984 | V=120.04379809424852965 |\n",
      "2 | 100x100 | 1 | 0.008s | obj=0.00000000002564632 | U=4059.79068037826618820 | V=120.04379809424852965 |\n",
      "2 | 100x100 | 1 | 0.008s | obj=0.00000000002057928 | U=4059.79068037826618820 | V=120.04379809424852965 |\n",
      "2 | 100x100 | 2 | 0.007s | obj=0.00000000002217069 | U=4059.79068037830165849 | V=120.04379809424852965 |\n",
      "2 | 100x100 | 2 | 0.009s | obj=0.00000000002322230 | U=4059.79068037830165849 | V=120.04379809424854386 |\n",
      "2 | 100x100 | 3 | 0.009s | obj=0.00000000002096208 | U=4059.79068037876913877 | V=120.04379809424854386 |\n",
      "2 | 100x100 | 3 | 0.008s | obj=0.00000000001885109 | U=4059.79068037876913877 | V=120.04379809424851544 |\n",
      "2 | 100x100 | 4 | 0.007s | obj=0.00000000002728559 | U=4059.79068037907472899 | V=120.04379809424851544 |\n",
      "2 | 100x100 | 4 | 0.008s | obj=0.00000000002387500 | U=4059.79068037907472899 | V=120.04379809424852965 |\n",
      "2 | 100x100 | 5 | 0.009s | obj=0.00000000001837123 | U=4059.79068037869592445 | V=120.04379809424852965 |\n",
      "2 | 100x100 | 5 | 0.008s | obj=0.00000000002106958 | U=4059.79068037869592445 | V=120.04379809424855807 |\n",
      "2 | 100x100 | 6 | 0.008s | obj=0.00000000002101505 | U=4059.79068037875413211 | V=120.04379809424855807 |\n",
      "2 | 100x100 | 6 | 0.008s | obj=0.00000000001843795 | U=4059.79068037875413211 | V=120.04379809424857228 |\n",
      "2 | 100x100 | 7 | 0.008s | obj=0.00000000002000347 | U=4059.79068037840625038 | V=120.04379809424857228 |\n",
      "2 | 100x100 | 7 | 0.009s | obj=0.00000000002201127 | U=4059.79068037840625038 | V=120.04379809424855807 |\n",
      "2 | 100x100 | 8 | 0.008s | obj=0.00000000002350158 | U=4059.79068037814477066 | V=120.04379809424855807 |\n",
      "2 | 100x100 | 8 | 0.009s | obj=0.00000000002104595 | U=4059.79068037814477066 | V=120.04379809424857228 |\n"
     ]
    }
   ],
   "source": [
    "start(img_A, 100, 'mnist', '2',  '100x100', 'sketching_g', epsilon=1e-14)"
   ]
  },
  {
   "cell_type": "code",
   "execution_count": 53,
   "metadata": {},
   "outputs": [],
   "source": [
    "mat = load_matrices('mnist', '2',  '100x100')"
   ]
  },
  {
   "cell_type": "code",
   "execution_count": 54,
   "metadata": {},
   "outputs": [
    {
     "data": {
      "image/png": "[encoded data removed]",
      "text/plain": [
       "<Figure size 1500x500 with 3 Axes>"
      ]
     },
     "metadata": {},
     "output_type": "display_data"
    }
   ],
   "source": [
    "show_grayscale_images([img_A, mat['U'] @ mat['V'].transpose()])"
   ]
  },
  {
   "cell_type": "code",
   "execution_count": 55,
   "metadata": {},
   "outputs": [],
   "source": [
    "for meth in methods[5:]:\n",
    "    for k in ks:\n",
    "        #start(img_A, k, 'mnist_500', '0_212',  f'{k}_{meth}_{epsilon[0]}', meth, epsilon=epsilon[0])\n",
    "        continue"
   ]
  },
  {
   "cell_type": "code",
   "execution_count": 56,
   "metadata": {},
   "outputs": [
    {
     "ename": "ValueError",
     "evalue": "zero-size array to reduction operation maximum which has no identity",
     "output_type": "error",
     "traceback": [
      "\u001b[1;31m---------------------------------------------------------------------------\u001b[0m",
      "\u001b[1;31mValueError\u001b[0m                                Traceback (most recent call last)",
      "Cell \u001b[1;32mIn[56], line 1\u001b[0m\n\u001b[1;32m----> 1\u001b[0m \u001b[43mthin_qr_factorization\u001b[49m\u001b[43m(\u001b[49m\u001b[43mnp\u001b[49m\u001b[38;5;241;43m.\u001b[39;49m\u001b[43marray\u001b[49m\u001b[43m(\u001b[49m\u001b[43m[\u001b[49m\u001b[43m[\u001b[49m\u001b[43m]\u001b[49m\u001b[43m]\u001b[49m\u001b[43m)\u001b[49m\u001b[43m)\u001b[49m\n",
      "File \u001b[1;32mc:\\Users\\cicci\\Desktop\\uni\\CM\\CM_Project\\math_utils.py:32\u001b[0m, in \u001b[0;36mthin_qr_factorization\u001b[1;34m(A, threshold)\u001b[0m\n\u001b[0;32m     30\u001b[0m \u001b[38;5;28;01mif\u001b[39;00m \u001b[38;5;129;01mnot\u001b[39;00m threshold:\n\u001b[0;32m     31\u001b[0m     eps \u001b[38;5;241m=\u001b[39m np\u001b[38;5;241m.\u001b[39mfinfo(\u001b[38;5;28mfloat\u001b[39m)\u001b[38;5;241m.\u001b[39meps\n\u001b[1;32m---> 32\u001b[0m     threshold \u001b[38;5;241m=\u001b[39m eps \u001b[38;5;241m*\u001b[39m \u001b[43mnp\u001b[49m\u001b[38;5;241;43m.\u001b[39;49m\u001b[43mmax\u001b[49m\u001b[43m(\u001b[49m\u001b[43mnp\u001b[49m\u001b[38;5;241;43m.\u001b[39;49m\u001b[43mabs\u001b[49m\u001b[43m(\u001b[49m\u001b[43mA\u001b[49m\u001b[43m)\u001b[49m\u001b[43m)\u001b[49m\n\u001b[0;32m     34\u001b[0m \u001b[38;5;28;01mfor\u001b[39;00m k \u001b[38;5;129;01min\u001b[39;00m \u001b[38;5;28mrange\u001b[39m(n):\n\u001b[0;32m     35\u001b[0m     \u001b[38;5;66;03m# Extract the column vector to be reflected\u001b[39;00m\n\u001b[0;32m     36\u001b[0m     x \u001b[38;5;241m=\u001b[39m A[k:m, k]\n",
      "File \u001b[1;32mc:\\Users\\cicci\\Desktop\\uni\\CM\\CM_Project\\.venv\\Lib\\site-packages\\numpy\\_core\\fromnumeric.py:3164\u001b[0m, in \u001b[0;36mmax\u001b[1;34m(a, axis, out, keepdims, initial, where)\u001b[0m\n\u001b[0;32m   3052\u001b[0m \u001b[38;5;129m@array_function_dispatch\u001b[39m(_max_dispatcher)\n\u001b[0;32m   3053\u001b[0m \u001b[38;5;129m@set_module\u001b[39m(\u001b[38;5;124m'\u001b[39m\u001b[38;5;124mnumpy\u001b[39m\u001b[38;5;124m'\u001b[39m)\n\u001b[0;32m   3054\u001b[0m \u001b[38;5;28;01mdef\u001b[39;00m \u001b[38;5;21mmax\u001b[39m(a, axis\u001b[38;5;241m=\u001b[39m\u001b[38;5;28;01mNone\u001b[39;00m, out\u001b[38;5;241m=\u001b[39m\u001b[38;5;28;01mNone\u001b[39;00m, keepdims\u001b[38;5;241m=\u001b[39mnp\u001b[38;5;241m.\u001b[39m_NoValue, initial\u001b[38;5;241m=\u001b[39mnp\u001b[38;5;241m.\u001b[39m_NoValue,\n\u001b[0;32m   3055\u001b[0m          where\u001b[38;5;241m=\u001b[39mnp\u001b[38;5;241m.\u001b[39m_NoValue):\n\u001b[0;32m   3056\u001b[0m \u001b[38;5;250m    \u001b[39m\u001b[38;5;124;03m\"\"\"\u001b[39;00m\n\u001b[0;32m   3057\u001b[0m \u001b[38;5;124;03m    Return the maximum of an array or maximum along an axis.\u001b[39;00m\n\u001b[0;32m   3058\u001b[0m \n\u001b[1;32m   (...)\u001b[0m\n\u001b[0;32m   3162\u001b[0m \u001b[38;5;124;03m    5\u001b[39;00m\n\u001b[0;32m   3163\u001b[0m \u001b[38;5;124;03m    \"\"\"\u001b[39;00m\n\u001b[1;32m-> 3164\u001b[0m     \u001b[38;5;28;01mreturn\u001b[39;00m \u001b[43m_wrapreduction\u001b[49m\u001b[43m(\u001b[49m\u001b[43ma\u001b[49m\u001b[43m,\u001b[49m\u001b[43m \u001b[49m\u001b[43mnp\u001b[49m\u001b[38;5;241;43m.\u001b[39;49m\u001b[43mmaximum\u001b[49m\u001b[43m,\u001b[49m\u001b[43m \u001b[49m\u001b[38;5;124;43m'\u001b[39;49m\u001b[38;5;124;43mmax\u001b[39;49m\u001b[38;5;124;43m'\u001b[39;49m\u001b[43m,\u001b[49m\u001b[43m \u001b[49m\u001b[43maxis\u001b[49m\u001b[43m,\u001b[49m\u001b[43m \u001b[49m\u001b[38;5;28;43;01mNone\u001b[39;49;00m\u001b[43m,\u001b[49m\u001b[43m \u001b[49m\u001b[43mout\u001b[49m\u001b[43m,\u001b[49m\n\u001b[0;32m   3165\u001b[0m \u001b[43m                          \u001b[49m\u001b[43mkeepdims\u001b[49m\u001b[38;5;241;43m=\u001b[39;49m\u001b[43mkeepdims\u001b[49m\u001b[43m,\u001b[49m\u001b[43m \u001b[49m\u001b[43minitial\u001b[49m\u001b[38;5;241;43m=\u001b[39;49m\u001b[43minitial\u001b[49m\u001b[43m,\u001b[49m\u001b[43m \u001b[49m\u001b[43mwhere\u001b[49m\u001b[38;5;241;43m=\u001b[39;49m\u001b[43mwhere\u001b[49m\u001b[43m)\u001b[49m\n",
      "File \u001b[1;32mc:\\Users\\cicci\\Desktop\\uni\\CM\\CM_Project\\.venv\\Lib\\site-packages\\numpy\\_core\\fromnumeric.py:86\u001b[0m, in \u001b[0;36m_wrapreduction\u001b[1;34m(obj, ufunc, method, axis, dtype, out, **kwargs)\u001b[0m\n\u001b[0;32m     83\u001b[0m         \u001b[38;5;28;01melse\u001b[39;00m:\n\u001b[0;32m     84\u001b[0m             \u001b[38;5;28;01mreturn\u001b[39;00m reduction(axis\u001b[38;5;241m=\u001b[39maxis, out\u001b[38;5;241m=\u001b[39mout, \u001b[38;5;241m*\u001b[39m\u001b[38;5;241m*\u001b[39mpasskwargs)\n\u001b[1;32m---> 86\u001b[0m \u001b[38;5;28;01mreturn\u001b[39;00m \u001b[43mufunc\u001b[49m\u001b[38;5;241;43m.\u001b[39;49m\u001b[43mreduce\u001b[49m\u001b[43m(\u001b[49m\u001b[43mobj\u001b[49m\u001b[43m,\u001b[49m\u001b[43m \u001b[49m\u001b[43maxis\u001b[49m\u001b[43m,\u001b[49m\u001b[43m \u001b[49m\u001b[43mdtype\u001b[49m\u001b[43m,\u001b[49m\u001b[43m \u001b[49m\u001b[43mout\u001b[49m\u001b[43m,\u001b[49m\u001b[43m \u001b[49m\u001b[38;5;241;43m*\u001b[39;49m\u001b[38;5;241;43m*\u001b[39;49m\u001b[43mpasskwargs\u001b[49m\u001b[43m)\u001b[49m\n",
      "\u001b[1;31mValueError\u001b[0m: zero-size array to reduction operation maximum which has no identity"
     ]
    }
   ],
   "source": [
    "thin_qr_factorization(np.array([[]]))"
   ]
  }
 ],
 "metadata": {
  "kernelspec": {
   "display_name": ".venv",
   "language": "python",
   "name": "python3"
  },
  "language_info": {
   "codemirror_mode": {
    "name": "ipython",
    "version": 3
   },
   "file_extension": ".py",
   "mimetype": "text/x-python",
   "name": "python",
   "nbconvert_exporter": "python",
   "pygments_lexer": "ipython3",
   "version": "3.12.2"
  }
 },
 "nbformat": 4,
 "nbformat_minor": 2
}
