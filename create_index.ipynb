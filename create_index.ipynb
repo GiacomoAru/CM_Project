{
 "cells": [
  {
   "cell_type": "code",
   "execution_count": 1,
   "metadata": {},
   "outputs": [],
   "source": [
    "import pandas as pd\n",
    "import numpy as np\n",
    "from plot_utils import *\n",
    "from math_utils import *"
   ]
  },
  {
   "cell_type": "code",
   "execution_count": 2,
   "metadata": {},
   "outputs": [
    {
     "name": "stdout",
     "output_type": "stream",
     "text": [
      "convergence_test_1.html\n",
      "convergence_test_2.html\n",
      "convergence_test_3.html\n",
      "first_test_phase_1.html\n",
      "first_test_phase_2.html\n",
      "first_test_phase_3.html\n",
      "first_test_phase_4.html\n",
      "first_test_phase_5.html\n",
      "identity_test_1.html\n",
      "identity_test_2.html\n",
      "low_rank_test_1.html\n",
      "low_rank_test_2.html\n",
      "norm_test_1.html\n",
      "norm_test_2.html\n",
      "norm_test_3.html\n",
      "ots_test_1.html\n",
      "ots_test_2.html\n",
      "ots_test_3.html\n",
      "performance_test_1.html\n",
      "performance_test_2.html\n",
      "performance_test_3.html\n",
      "performance_test_4.html\n",
      "structural_property_test_1.html\n"
     ]
    }
   ],
   "source": [
    "from pathlib import Path\n",
    "\n",
    "# Specifica il percorso della cartella\n",
    "cartella = Path(\"./data/plots\")\n",
    "lista_f = []\n",
    "\n",
    "# Controlla se la cartella esiste\n",
    "if cartella.is_dir():\n",
    "    # Itera sui file nella cartella\n",
    "    for file in cartella.iterdir():\n",
    "        if file.is_file():  # Verifica che sia un file\n",
    "            print(file.name)\n",
    "            lista_f.append(file.name)\n",
    "else:\n",
    "    print(f\"La cartella {cartella} non esiste.\")\n"
   ]
  },
  {
   "cell_type": "code",
   "execution_count": 3,
   "metadata": {},
   "outputs": [],
   "source": [
    "def generate_html(file_list):\n",
    "    # Inizio del contenuto HTML\n",
    "    html_content = \"\"\"\n",
    "<!DOCTYPE html>\n",
    "<html lang=\"en\">\n",
    "<head>\n",
    "    <meta charset=\"UTF-8\">\n",
    "    <meta name=\"viewport\" content=\"width=device-width, initial-scale=1.0\">\n",
    "    <title>CM Project Results</title>\n",
    "</head>\n",
    "<body>\n",
    "    <h1>CM Project Results</h1>\n",
    "    <ul>\n",
    "\"\"\"\n",
    "    \n",
    "    # Aggiungi gli elementi della lista come link nel formato richiesto\n",
    "    for file_name in file_list:\n",
    "        file_link = f\"https://giacomoaru.github.io/CM_Project_Results/{file_name}\"\n",
    "        html_content += f'        <li><a href=\"{file_link}\">{file_name}</a></li>\\n'\n",
    "    \n",
    "    # Fine del contenuto HTML\n",
    "    html_content += \"\"\"\n",
    "    </ul>\n",
    "</body>\n",
    "</html>\n",
    "\"\"\"\n",
    "    \n",
    "    # Salva il contenuto in un file HTML\n",
    "    with open(\"./data/plots/index.html\", \"w\") as html_file:\n",
    "        html_file.write(html_content)\n",
    "\n",
    "generate_html(lista_f)\n"
   ]
  }
 ],
 "metadata": {
  "kernelspec": {
   "display_name": ".venv",
   "language": "python",
   "name": "python3"
  },
  "language_info": {
   "codemirror_mode": {
    "name": "ipython",
    "version": 3
   },
   "file_extension": ".py",
   "mimetype": "text/x-python",
   "name": "python",
   "nbconvert_exporter": "python",
   "pygments_lexer": "ipython3",
   "version": "3.12.2"
  }
 },
 "nbformat": 4,
 "nbformat_minor": 2
}
